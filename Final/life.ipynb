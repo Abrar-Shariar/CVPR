{
 "cells": [
  {
   "cell_type": "code",
   "execution_count": 1,
   "id": "6e66f708",
   "metadata": {},
   "outputs": [],
   "source": [
    "import os   # '''provides a way to interact with the operating system, such as navigating file directories and manipulating files.'''\n",
    "import cv2   #'''provides functions for reading, writing, and manipulating image data'''\n",
    "import time  # '''provides functions for measuring the execution time of code.'''\n",
    "from tqdm import tqdm   #'''provides a progress bar that shows the progress of a loop or operation'''\n",
    "import numpy as np   #'''multi-dimensional arrays and matrix operations'''\n",
    "import tensorflow as tf #'''support for building, training, and deploying deep learning models''' \n",
    "from sklearn.model_selection import train_test_split  #'''function for splitting data into training and testing sets for machine learning models'''\n",
    "from tensorflow.keras.models import Sequential, load_model  # '''`Sequential`: provides a way to create a neural network model in Keras API by stacking layers sequentially. - `load_model`: provides a way to load a saved Keras model from disk.'''\n",
    "from tensorflow.keras.layers import Conv2D, Dense, MaxPooling2D, Flatten, Activation, Dropout # '''Conv2D`: provides a way to add a 2-dimensional convolution layer to a Keras model. - `Dense`: provides a way to add a fully connected layer to a Keras model. - `MaxPooling2D`: provides a way to add a 2-dimensional max pooling layer to a Keras model. - `Flatten`: provides a way to flatten the output of a layer into a 1-dimensional array. - `Activation`: provides a way to specify an activation function for a layer in a Keras model. - `Dropout`: provides a way to add a dropout layer to a Keras model to prevent overfitting.'''"
   ]
  },
  {
   "cell_type": "code",
   "execution_count": 2,
   "id": "3d82d1e5",
   "metadata": {},
   "outputs": [
    {
     "name": "stdout",
     "output_type": "stream",
     "text": [
      "['without_mask', 'with_mask']\n"
     ]
    }
   ],
   "source": [
    "img_size = 100\n",
    "datadir = r'C:\\Users\\ASUS\\OneDrive\\Desktop\\assignment\\Dataset'\n",
    "CATEGORIES = os.listdir(datadir)\n",
    "print(CATEGORIES)"
   ]
  },
  {
   "cell_type": "code",
   "execution_count": 3,
   "id": "3d241f52",
   "metadata": {
    "scrolled": true
   },
   "outputs": [
    {
     "name": "stdout",
     "output_type": "stream",
     "text": [
      "C:\\Users\\ASUS\\OneDrive\\Desktop\\assignment\\Dataset\\without_mask\n"
     ]
    },
    {
     "name": "stderr",
     "output_type": "stream",
     "text": [
      "100%|██████████████████████████████████████████████████████████████████████████████| 2994/2994 [00:46<00:00, 64.94it/s]\n"
     ]
    },
    {
     "name": "stdout",
     "output_type": "stream",
     "text": [
      "C:\\Users\\ASUS\\OneDrive\\Desktop\\assignment\\Dataset\\with_mask\n"
     ]
    },
    {
     "name": "stderr",
     "output_type": "stream",
     "text": [
      "100%|██████████████████████████████████████████████████████████████████████████████| 2994/2994 [00:46<00:00, 64.04it/s]\n"
     ]
    }
   ],
   "source": [
    "# Define two empty list for contain image data\n",
    "x, y = [], []\n",
    "   \n",
    "def PreProcess():\n",
    "    for category in CATEGORIES:\n",
    "        path = os.path.join(datadir, category)\n",
    "        classIndex = CATEGORIES.index(category)\n",
    "        print(path)\n",
    "        for imgs in tqdm(os.listdir(path)):\n",
    "            img_arr = cv2.imread(os.path.join(path, imgs))\n",
    "            \n",
    "            # resize the image\n",
    "            resized_array = cv2.resize(img_arr, (img_size, img_size))\n",
    "            cv2.imshow(\"images\", resized_array)\n",
    "            cv2.waitKey(1)\n",
    "            resized_array = resized_array/255.0\n",
    "            x.append(resized_array)\n",
    "            y.append(classIndex)\n",
    "            \n",
    "PreProcess()\n",
    "cv2.destroyAllWindows()"
   ]
  },
  {
   "cell_type": "code",
   "execution_count": 4,
   "id": "0b10cd3f",
   "metadata": {},
   "outputs": [],
   "source": [
    "X_train, X_test, y_train, y_test = train_test_split(x, y, test_size=0.20, random_state=42)"
   ]
  },
  {
   "cell_type": "code",
   "execution_count": 5,
   "id": "b85f416d",
   "metadata": {},
   "outputs": [],
   "source": [
    "X_train = np.array(X_train).reshape(-1, img_size, img_size, 3)\n",
    "y_train = np.array(y_train)\n",
    "X_test = np.array(X_test).reshape(-1, img_size, img_size, 3)\n",
    "y_test = np.array(y_test)"
   ]
  },
  {
   "cell_type": "code",
   "execution_count": 6,
   "id": "215221b4",
   "metadata": {},
   "outputs": [],
   "source": [
    "batch_size = 32\n",
    "epochs = 15"
   ]
  },
  {
   "cell_type": "code",
   "execution_count": 7,
   "id": "3b28e4ca",
   "metadata": {},
   "outputs": [
    {
     "name": "stdout",
     "output_type": "stream",
     "text": [
      "Model: \"sequential\"\n",
      "_________________________________________________________________\n",
      " Layer (type)                Output Shape              Param #   \n",
      "=================================================================\n",
      " conv2d (Conv2D)             (None, 98, 98, 64)        1792      \n",
      "                                                                 \n",
      " activation (Activation)     (None, 98, 98, 64)        0         \n",
      "                                                                 \n",
      " max_pooling2d (MaxPooling2D  (None, 49, 49, 64)       0         \n",
      " )                                                               \n",
      "                                                                 \n",
      " conv2d_1 (Conv2D)           (None, 47, 47, 256)       147712    \n",
      "                                                                 \n",
      " activation_1 (Activation)   (None, 47, 47, 256)       0         \n",
      "                                                                 \n",
      " max_pooling2d_1 (MaxPooling  (None, 23, 23, 256)      0         \n",
      " 2D)                                                             \n",
      "                                                                 \n",
      " conv2d_2 (Conv2D)           (None, 21, 21, 128)       295040    \n",
      "                                                                 \n",
      " activation_2 (Activation)   (None, 21, 21, 128)       0         \n",
      "                                                                 \n",
      " dropout (Dropout)           (None, 21, 21, 128)       0         \n",
      "                                                                 \n",
      " conv2d_3 (Conv2D)           (None, 19, 19, 32)        36896     \n",
      "                                                                 \n",
      " activation_3 (Activation)   (None, 19, 19, 32)        0         \n",
      "                                                                 \n",
      " max_pooling2d_2 (MaxPooling  (None, 9, 9, 32)         0         \n",
      " 2D)                                                             \n",
      "                                                                 \n",
      " dropout_1 (Dropout)         (None, 9, 9, 32)          0         \n",
      "                                                                 \n",
      " flatten (Flatten)           (None, 2592)              0         \n",
      "                                                                 \n",
      " dense (Dense)               (None, 100)               259300    \n",
      "                                                                 \n",
      " dense_1 (Dense)             (None, 16)                1616      \n",
      "                                                                 \n",
      " dense_2 (Dense)             (None, 2)                 34        \n",
      "                                                                 \n",
      " activation_4 (Activation)   (None, 2)                 0         \n",
      "                                                                 \n",
      "=================================================================\n",
      "Total params: 742,390\n",
      "Trainable params: 742,390\n",
      "Non-trainable params: 0\n",
      "_________________________________________________________________\n"
     ]
    }
   ],
   "source": [
    "model = Sequential()\n",
    "\n",
    "model.add(Conv2D(64,(3, 3), input_shape=(img_size, img_size, 3)))\n",
    "model.add(Activation('relu'))\n",
    "model.add(MaxPooling2D(pool_size = (2, 2)))\n",
    "\n",
    "model.add(Conv2D(256, (3, 3)))\n",
    "model.add(Activation('relu'))\n",
    "model.add(MaxPooling2D(pool_size = (2, 2)))\n",
    "\n",
    "model.add(Conv2D(128, (3, 3)))\n",
    "model.add(Activation('relu'))\n",
    "model.add(Dropout(0.25))\n",
    "\n",
    "model.add(Conv2D(32, (3, 3)))\n",
    "model.add(Activation('relu'))\n",
    "model.add(MaxPooling2D(pool_size = (2, 2)))\n",
    "\n",
    "model.add(Dropout(0.25))\n",
    "model.add(Flatten())\n",
    "model.add(Dense(100, activation='relu'))\n",
    "model.add(Dense(16, activation='relu'))\n",
    "\n",
    "\n",
    "model.add(Dense(len(CATEGORIES)))\n",
    "model.add(Activation('softmax'))\n",
    "\n",
    "# compile the model\n",
    "\n",
    "model.compile(optimizer='adam', loss = 'sparse_categorical_crossentropy', metrics=['accuracy'])\n",
    "model.summary()"
   ]
  },
  {
   "cell_type": "code",
   "execution_count": 8,
   "id": "8deb7529",
   "metadata": {},
   "outputs": [
    {
     "name": "stdout",
     "output_type": "stream",
     "text": [
      "Epoch 1/15\n",
      "105/105 [==============================] - 196s 2s/step - loss: 0.2436 - accuracy: 0.9099 - val_loss: 0.1206 - val_accuracy: 0.9617\n",
      "Epoch 2/15\n",
      "105/105 [==============================] - 209s 2s/step - loss: 0.1145 - accuracy: 0.9603 - val_loss: 0.0896 - val_accuracy: 0.9763\n",
      "Epoch 3/15\n",
      "105/105 [==============================] - 208s 2s/step - loss: 0.1250 - accuracy: 0.9600 - val_loss: 0.1318 - val_accuracy: 0.9701\n",
      "Epoch 4/15\n",
      "105/105 [==============================] - 215s 2s/step - loss: 0.0891 - accuracy: 0.9705 - val_loss: 0.1079 - val_accuracy: 0.9659\n",
      "Epoch 5/15\n",
      "105/105 [==============================] - 223s 2s/step - loss: 0.1079 - accuracy: 0.9600 - val_loss: 0.0929 - val_accuracy: 0.9777\n",
      "Epoch 6/15\n",
      "105/105 [==============================] - 208s 2s/step - loss: 0.0849 - accuracy: 0.9752 - val_loss: 0.1043 - val_accuracy: 0.9680\n",
      "Epoch 7/15\n",
      "105/105 [==============================] - 213s 2s/step - loss: 0.0882 - accuracy: 0.9708 - val_loss: 0.0753 - val_accuracy: 0.9784\n",
      "Epoch 8/15\n",
      "105/105 [==============================] - 193s 2s/step - loss: 0.0711 - accuracy: 0.9732 - val_loss: 0.0802 - val_accuracy: 0.9749\n",
      "Epoch 9/15\n",
      "105/105 [==============================] - 201s 2s/step - loss: 0.0723 - accuracy: 0.9776 - val_loss: 0.0665 - val_accuracy: 0.9812\n",
      "Epoch 10/15\n",
      "105/105 [==============================] - 187s 2s/step - loss: 0.0699 - accuracy: 0.9767 - val_loss: 0.0968 - val_accuracy: 0.9694\n",
      "Epoch 11/15\n",
      "105/105 [==============================] - 191s 2s/step - loss: 0.0652 - accuracy: 0.9776 - val_loss: 0.0797 - val_accuracy: 0.9756\n",
      "Epoch 12/15\n",
      "105/105 [==============================] - 190s 2s/step - loss: 0.0538 - accuracy: 0.9848 - val_loss: 0.1139 - val_accuracy: 0.9645\n",
      "Epoch 13/15\n",
      "105/105 [==============================] - 190s 2s/step - loss: 0.0620 - accuracy: 0.9773 - val_loss: 0.0977 - val_accuracy: 0.9680\n",
      "Epoch 14/15\n",
      "105/105 [==============================] - 190s 2s/step - loss: 0.0652 - accuracy: 0.9791 - val_loss: 0.0808 - val_accuracy: 0.9763\n",
      "Epoch 15/15\n",
      "105/105 [==============================] - 195s 2s/step - loss: 0.0631 - accuracy: 0.9791 - val_loss: 0.0898 - val_accuracy: 0.9749\n",
      "Time taken:  3011.179799079895\n"
     ]
    }
   ],
   "source": [
    "t1 = time.time()\n",
    "\n",
    "model.fit(X_train, y_train, batch_size = batch_size, epochs=epochs, validation_split=0.3, verbose = 1)\n",
    "model.save('{}.h5'.format(\"model\"))\n",
    "\n",
    "t2 = time.time()\n",
    "print('Time taken: ',t2-t1)"
   ]
  },
  {
   "cell_type": "code",
   "execution_count": 9,
   "id": "d5a8b9d5",
   "metadata": {},
   "outputs": [
    {
     "name": "stdout",
     "output_type": "stream",
     "text": [
      "38/38 [==============================] - 18s 471ms/step - loss: 0.0897 - accuracy: 0.9649\n"
     ]
    }
   ],
   "source": [
    "validation_loss, validation_accuracy = model.evaluate(X_test, y_test)"
   ]
  },
  {
   "cell_type": "markdown",
   "id": "490ba63e",
   "metadata": {},
   "source": [
    "## import cv2\n",
    "import mediapipe as mp\n",
    "import numpy as np\n",
    "import tensorflow as tf\n",
    "from tensorflow.keras.models import load_model\n",
    "\n",
    "# Load the model\n",
    "model = load_model('model.h5')\n",
    "\n",
    "# Define mediapipe Face detector\n",
    "\n",
    "face_detection = mp.solutions.face_detection.FaceDetection()\n",
    "\n",
    "# Detection function\n",
    "\n",
    "\n",
    "\n",
    "def get_detection(frame):\n",
    "\n",
    "\n",
    "    height, width, channel = frame.shape\n",
    "\n",
    "    # Convert frame BGR to RGB colorspace\n",
    "\n",
    "    imgRGB = cv2.cvtColor(frame, cv2.COLOR_BGR2RGB)\n",
    "    # Detect results from the frame\n",
    "    \n",
    "    result = face_detection.process(imgRGB)\n",
    "\n",
    "\n",
    "    try:\n",
    "        for count, detection in enumerate(result.detections):\n",
    "\n",
    "            # print(detection)\n",
    "\n",
    "        \n",
    "            # Extract bounding box information \n",
    "            \n",
    "            box = detection.location_data.relative_bounding_box\n",
    "\n",
    "            x, y, w, h = int(box.xmin*width), int(box.ymin * height), int(box.width*width), int(box.height*height)\n",
    "            \n",
    "    # If detection is not available then pass \n",
    "    except:\n",
    "        pass\n",
    "\n",
    "    return x, y, w, h\n",
    "\n",
    "CATEGORIES = ['no_mask','mask' ]\n",
    "cap = cv2.VideoCapture(0)\n",
    "while True:\n",
    "    ret, frame = cap.read()\n",
    "    if not ret:\n",
    "        break  # exit loop if no more frames are available\n",
    "    img = frame.copy()\n",
    "    try:\n",
    "        x, y, w, h = get_detection(frame)\n",
    "        \n",
    "        crop_img = img[y:y+h, x:x+w]\n",
    "        \n",
    "        crop_img = cv2.resize(crop_img, (100, 100))\n",
    "        \n",
    "        crop_img = np.expand_dims(crop_img, axis=0)\n",
    "        \n",
    "        # get the prediction from the model.\n",
    "        prediction = model.predict(crop_img)\n",
    "        print(prediction).\n",
    "        index = np.argmax(prediction)\n",
    "        res = CATEGORIES[index]\n",
    "        if index == 0:\n",
    "            color = (0, 0, 255)\n",
    "        else:\n",
    "            color = (0, 255, 0)\n",
    "        cv2.rectangle(frame, (x, y), (x+w, y+h), color, 2)\n",
    "        cv2.putText(frame, res, (x, y-10), cv2.FONT_HERSHEY_SIMPLEX,\n",
    "                                 0.8, color, 2, cv2.LINE_AA)\n",
    "\n",
    "    except:\n",
    "        pass\n",
    "    \n",
    "    cv2.imshow(\"frame\", frame)\n",
    "    if cv2.waitKey(1) == ord('o'):\n",
    "        break\n",
    "    \n",
    "cap.release()\n",
    "cv2.destroyAllWindows()"
   ]
  },
  {
   "cell_type": "code",
   "execution_count": null,
   "id": "f6a5c150",
   "metadata": {},
   "outputs": [],
   "source": []
  }
 ],
 "metadata": {
  "kernelspec": {
   "display_name": "Python 3 (ipykernel)",
   "language": "python",
   "name": "python3"
  },
  "language_info": {
   "codemirror_mode": {
    "name": "ipython",
    "version": 3
   },
   "file_extension": ".py",
   "mimetype": "text/x-python",
   "name": "python",
   "nbconvert_exporter": "python",
   "pygments_lexer": "ipython3",
   "version": "3.9.13"
  }
 },
 "nbformat": 4,
 "nbformat_minor": 5
}
